{
 "cells": [
  {
   "cell_type": "markdown",
   "id": "f1ce945c-d244-468c-be48-35807812a405",
   "metadata": {},
   "source": [
    "# Exercice 1"
   ]
  },
  {
   "cell_type": "code",
   "execution_count": 2,
   "id": "80f6e4f0-7731-43ff-a3e0-1fe73f98b0e2",
   "metadata": {},
   "outputs": [],
   "source": [
    "import cv2\n",
    "import numpy as np\n",
    "from matplotlib import pyplot as plt"
   ]
  },
  {
   "cell_type": "markdown",
   "id": "2c96df30-d23f-438d-86a6-501a676c3e5e",
   "metadata": {},
   "source": [
    "## 1. Créez une image noire de taille 160 pixels par 120 pixels"
   ]
  },
  {
   "cell_type": "code",
   "execution_count": 15,
   "id": "848b6348-03b7-46a5-a6bc-ca937de1b0db",
   "metadata": {},
   "outputs": [],
   "source": [
    "imgNoir = np.zeros([160,120], np.uint8)"
   ]
  },
  {
   "cell_type": "markdown",
   "id": "83c67cb0-e5ef-486a-bc53-2ba2d6454ad5",
   "metadata": {},
   "source": [
    "## 2. Affichez cette image dans une fenêtre OpenCV nommée « Image noir de taille … »"
   ]
  },
  {
   "cell_type": "code",
   "execution_count": 16,
   "id": "6cbc74b5-18ee-48a3-8c89-b27109b8e7c1",
   "metadata": {},
   "outputs": [
    {
     "data": {
      "text/plain": [
       "-1"
      ]
     },
     "execution_count": 16,
     "metadata": {},
     "output_type": "execute_result"
    }
   ],
   "source": [
    "cv2.imshow(\"Image noir de taille ...\", imgNoir)\n",
    "cv2.waitKey(0)"
   ]
  },
  {
   "cell_type": "markdown",
   "id": "247931fb-5f04-4601-87cb-ecca887acdee",
   "metadata": {},
   "source": [
    "## 3. Créez une image blanche de taille 80 pixels par 60 pixels"
   ]
  },
  {
   "cell_type": "code",
   "execution_count": 31,
   "id": "726ac2f1-716c-4588-a1a1-c76ddabd9cee",
   "metadata": {},
   "outputs": [],
   "source": [
    "imgBlanche = np.full([80,60],255, np.uint8)"
   ]
  },
  {
   "cell_type": "markdown",
   "id": "4675c0d7-17d7-4dae-be6d-27aa1045c204",
   "metadata": {},
   "source": [
    "## 4. Affichez cette image dans une fenêtre OpenCV nommée « Image blanche de taille … »."
   ]
  },
  {
   "cell_type": "code",
   "execution_count": 33,
   "id": "1be0ebb6-bae2-4886-9fd1-f3f75b77e91e",
   "metadata": {},
   "outputs": [
    {
     "data": {
      "text/plain": [
       "-1"
      ]
     },
     "execution_count": 33,
     "metadata": {},
     "output_type": "execute_result"
    }
   ],
   "source": [
    "cv2.imshow(\"Image blanche de taille ...\", imgBlanche)\n",
    "cv2.waitKey(0)"
   ]
  },
  {
   "cell_type": "markdown",
   "id": "c229a50d-37bd-4aea-b467-057143b05971",
   "metadata": {},
   "source": [
    "## 5. Créez une image verte de taille 30 pixels par 40 pixels."
   ]
  },
  {
   "cell_type": "code",
   "execution_count": 36,
   "id": "56fb72f6-989e-47c1-893a-698ad511a397",
   "metadata": {},
   "outputs": [],
   "source": [
    "imgVerte = np.full([80,60,3],[0,255,0], np.uint8)"
   ]
  },
  {
   "cell_type": "markdown",
   "id": "104b6a15-9d47-494e-864e-40ba95972fdd",
   "metadata": {},
   "source": [
    "## 6. Affichez cette image dans une fenêtre OpenCV nommée « Image verte de taille … »."
   ]
  },
  {
   "cell_type": "code",
   "execution_count": 37,
   "id": "e5ef64f5-103b-4ea5-a490-87f6a6eefe37",
   "metadata": {},
   "outputs": [
    {
     "data": {
      "text/plain": [
       "0"
      ]
     },
     "execution_count": 37,
     "metadata": {},
     "output_type": "execute_result"
    }
   ],
   "source": [
    "cv2.imshow(\"Image blanche de taille ...\", imgVerte)\n",
    "cv2.waitKey(0)"
   ]
  },
  {
   "cell_type": "code",
   "execution_count": null,
   "id": "5661320c-78a6-4299-8f49-ed30a7cbe61f",
   "metadata": {},
   "outputs": [],
   "source": []
  },
  {
   "cell_type": "code",
   "execution_count": null,
   "id": "23da44a9-9a8f-499b-8763-ac4b9e06e22b",
   "metadata": {},
   "outputs": [],
   "source": []
  },
  {
   "cell_type": "code",
   "execution_count": null,
   "id": "f854335d-3668-4dc0-a394-bafac9bc2f5c",
   "metadata": {},
   "outputs": [],
   "source": []
  },
  {
   "cell_type": "code",
   "execution_count": null,
   "id": "d97a2062-92eb-41aa-849f-ad0a175d1903",
   "metadata": {},
   "outputs": [],
   "source": []
  }
 ],
 "metadata": {
  "kernelspec": {
   "display_name": "Python 3 (ipykernel)",
   "language": "python",
   "name": "python3"
  },
  "language_info": {
   "codemirror_mode": {
    "name": "ipython",
    "version": 3
   },
   "file_extension": ".py",
   "mimetype": "text/x-python",
   "name": "python",
   "nbconvert_exporter": "python",
   "pygments_lexer": "ipython3",
   "version": "3.12.3"
  }
 },
 "nbformat": 4,
 "nbformat_minor": 5
}
