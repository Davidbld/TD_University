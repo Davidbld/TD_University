{
 "cells": [
  {
   "cell_type": "markdown",
   "metadata": {},
   "source": [
    "# Seuillage par valeur"
   ]
  },
  {
   "cell_type": "code",
   "execution_count": 2,
   "metadata": {},
   "outputs": [],
   "source": [
    "import cv2\n",
    "import numpy as np\n",
    "from matplotlib import pyplot as plt\n",
    "\n",
    "fleur=cv2.imread(\"fleur.png\")"
   ]
  },
  {
   "cell_type": "markdown",
   "metadata": {},
   "source": [
    "## 1. Ecrire une fonction qui segmente une image en niveau de gris par valeur"
   ]
  },
  {
   "cell_type": "code",
   "execution_count": 3,
   "metadata": {},
   "outputs": [],
   "source": [
    "def segmentation (image,seuil):\n",
    "    gray=cv2.cvtColor(image,cv2.COLOR_BGR2GRAY)\n",
    "    ret,imageSegmentee=cv2.threshold(gray,seuil,255,cv2.THRESH_BINARY_INV)\n",
    "    return imageSegmentee\n",
    "\n",
    "imageSegmentee = segmentation(fleur,10)\n",
    "\n",
    "cv2.imshow('image',imageSegmentee)\n",
    "cv2.waitKey(0)\n",
    "cv2.destroyAllWindows()"
   ]
  },
  {
   "cell_type": "markdown",
   "metadata": {},
   "source": [
    "## 2. Affichez le résulat suivant\n",
    "- Sur la permière ligne :\n",
    "  - Une fleur normal / Un fleur inversé / Un fleur normal\n",
    "- Sur la deuxième ligne :\n",
    "  - Une fleur déformé / Une fleur en négatif"
   ]
  },
  {
   "cell_type": "markdown",
   "metadata": {},
   "source": [
    "*P.S. Le code final n'est pas encore fini*"
   ]
  },
  {
   "cell_type": "code",
   "execution_count": 8,
   "metadata": {},
   "outputs": [],
   "source": [
    "hauteur, largeur = 360, 360\n",
    "\n",
    "# Chargement et redimensionnement des images à la même taille\n",
    "imgRetourneR = cv2.flip(fleur,0)\n",
    "\n",
    "# Image Noire\n",
    "imgNoirePetite = np.zeros([180,180,3], np.uint8)\n",
    "imgNoireGrande = np.zeros([360,360,3], np.uint8)\n",
    "\n",
    "# Affichage des images dans une grille\n",
    "fleurCompletHaut = np.concatenate((fleur, imgRetourneR, fleur), axis=1)\n",
    "# fleurCompletBas = np.concatenate((fleur,imageSegmentee), axis=1)\n",
    "# displayGridFull = np.concatenate((fleurCompletHaut,fleurCompletBas), axis=0)\n",
    "\n",
    "cv2.imshow('Grid', fleurCompletHaut)\n",
    "cv2.waitKey(0)\n",
    "cv2.destroyAllWindows()"
   ]
  }
 ],
 "metadata": {
  "kernelspec": {
   "display_name": "Python 3",
   "language": "python",
   "name": "python3"
  },
  "language_info": {
   "codemirror_mode": {
    "name": "ipython",
    "version": 3
   },
   "file_extension": ".py",
   "mimetype": "text/x-python",
   "name": "python",
   "nbconvert_exporter": "python",
   "pygments_lexer": "ipython3",
   "version": "3.12.7"
  }
 },
 "nbformat": 4,
 "nbformat_minor": 2
}
