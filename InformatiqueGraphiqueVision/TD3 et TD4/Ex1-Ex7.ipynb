{
 "cells": [
  {
   "cell_type": "code",
   "execution_count": 11,
   "id": "7f39b4eb-0701-42ea-9b05-71d450fe42ea",
   "metadata": {},
   "outputs": [],
   "source": [
    "import cv2\n",
    "import numpy as np\n",
    "from matplotlib import pyplot as plt"
   ]
  },
  {
   "cell_type": "markdown",
   "id": "3b504ab4-428e-421b-b73b-d6699608724a",
   "metadata": {},
   "source": [
    "# Exercice 1 : Suppression d’artefacts dans l’image"
   ]
  },
  {
   "cell_type": "code",
   "execution_count": 12,
   "id": "9ce01520-2ef0-4f63-9864-0b363d31c827",
   "metadata": {},
   "outputs": [],
   "source": [
    "fichierBalle1 = \"balle1.jpg\"\n",
    "imgBalle1 = cv2.imread(\"balle1.jpg\", cv2.IMREAD_COLOR)\n",
    "fichierBalle2 = \"balle2.jpg\"\n",
    "imgBalle2 = cv2.imread(\"balle2.jpg\", cv2.IMREAD_COLOR)\n",
    "fichierBalle3 = \"balle3.jpg\"\n",
    "imgBalle3 = cv2.imread(\"balle3.jpg\", cv2.IMREAD_COLOR)"
   ]
  },
  {
   "cell_type": "code",
   "execution_count": 13,
   "id": "d89de9cf-d010-41bd-b315-a319b015f7e9",
   "metadata": {},
   "outputs": [],
   "source": [
    "def erosion(img,taileEro):\n",
    "    elementStructurantErosion = np.ones((taileEro,taileEro),np.uint8)\n",
    "    resultat_erosion = cv2.erode(img, elementStructurantErosion)\n",
    "    return resultat_erosion\n",
    "\n",
    "def dilation(img,tailleDila):\n",
    "    elementStructurantDilatation = np.ones((tailleDila,tailleDila),np.uint8)\n",
    "    resultat_dilatation = cv2.dilate(resultat_erosion, elementStructurantDilatation)\n",
    "    return resultat_dilatation\n",
    "\n",
    "def ouverture(img,taileEro,tailleDila):\n",
    "    elementStructurantErosion = np.ones((taileEro,taileEro),np.uint8)\n",
    "    elementStructurantDilatation = np.ones((tailleDila,tailleDila),np.uint8)\n",
    "    resultat_erosion = cv2.erode(img, elementStructurantErosion)\n",
    "    resultat_ouverture = cv2.dilate(resultat_erosion, elementStructurantDilatation)\n",
    "    return resultat_ouverture\n",
    "\n",
    "def fermeture(img,taileEro,tailleDila):\n",
    "    elementStructurantErosion = np.ones((taileEro,taileEro),np.uint8)\n",
    "    elementStructurantDilatation = np.ones((tailleDila,tailleDila),np.uint8)\n",
    "    resultat_dilatation = cv2.dilate(img, elementStructurantDilatation)\n",
    "    resultat_fermeture = cv2.erode(resultat_dilatation, elementStructurantErosion)\n",
    "    return resultat_fermeture"
   ]
  },
  {
   "cell_type": "code",
   "execution_count": 14,
   "id": "289dbc58-24ae-455b-a0f7-5fa09847057c",
   "metadata": {},
   "outputs": [
    {
     "data": {
      "text/plain": [
       "-1"
      ]
     },
     "execution_count": 14,
     "metadata": {},
     "output_type": "execute_result"
    }
   ],
   "source": [
    "# imgBalle1Erosion = erosion(imgBalle1, 8)\n",
    "# imgBalle2Erosion = erosion(imgBalle2, 2)\n",
    "# imgBalle3Erosion = erosion(imgBalle3, 3)\n",
    "\n",
    "# cv2.imshow(\"Erosion Image 1\",imgBalle1Erosion)\n",
    "# cv2.imshow(\"Erosion Image 2\",imgBalle2Erosion)\n",
    "# cv2.imshow(\"Erosion Image 3\",imgBalle3Erosion)\n",
    "\n",
    "# imgBalle1Dilation = dilation(imgBalle1, 20)\n",
    "# imgBalle2Dilation = dilation(imgBalle2, 4)\n",
    "# imgBalle3Dilation = dilation(imgBalle3, 6)\n",
    "\n",
    "# cv2.imshow(\"Dilation Image 1\",imgBalle1Dilation)\n",
    "# cv2.imshow(\"Dilation Image 2\",imgBalle2Dilation)\n",
    "# cv2.imshow(\"Dilation Image 3\",imgBalle3Dilation)\n",
    "\n",
    "# imgBalle1Ouverture = ouverture(imgBalle1, 8, 20)\n",
    "# imgBalle2Ouverture = ouverture(imgBalle2, 2, 4)\n",
    "# imgBalle3Ouverture = ouverture(imgBalle3, 3, 6)\n",
    "\n",
    "# cv2.imshow(\"Ouverture Image 1\",imgBalle1Ouverture)\n",
    "# cv2.imshow(\"Ouverture Image 2\",imgBalle2Ouverture)\n",
    "# cv2.imshow(\"Ouverture Image 3\",imgBalle3Ouverture)\n",
    "\n",
    "imgBalle1Fermeture = fermeture(imgBalle1, 8, 20)\n",
    "imgBalle2Fermeture = fermeture(imgBalle2, 2, 4)\n",
    "imgBalle3Fermeture = fermeture(imgBalle3, 3, 6)\n",
    "\n",
    "cv2.imshow(\"Fermeture Image 1\",imgBalle1Fermeture)\n",
    "cv2.imshow(\"Fermeture Image 2\",imgBalle2Fermeture)\n",
    "cv2.imshow(\"Fermeture Image 3\",imgBalle3Fermeture)\n",
    "\n",
    "cv2.waitKey(0)"
   ]
  },
  {
   "cell_type": "markdown",
   "id": "565ec978-db9c-482a-ba0a-273f610f8c44",
   "metadata": {},
   "source": [
    "# Exercice 2 : Filtrage par convolution"
   ]
  },
  {
   "cell_type": "code",
   "execution_count": null,
   "id": "8314e879-8a96-4e1d-9b52-062b7a8357f6",
   "metadata": {},
   "outputs": [],
   "source": [
    "image = cv2.imread(\"ville.jpg\", cv2.IMREAD_COLOR)\n",
    "\n",
    "Noyau = np.array([[0,0,0],[0,1,0],[0,0,0]])\n",
    "imgf1=cv2.filter2D(src=image, ddepth=-1, kernel=Noyau)\n",
    "\n",
    "Noyau = np.ones((3,3))\n",
    "imgf2=cv2.filter2D(src=image, ddepth=-1, kernel=Noyau)\n",
    "\n",
    "Noyau = np.ones((3,3))/9\n",
    "imgf3=cv2.filter2D(src=image, ddepth=-1, kernel=Noyau)\n",
    "\n",
    "cv2.imshow(\"img 1\",imgf1)\n",
    "cv2.imshow(\"img 2\",imgf2)\n",
    "cv2.imshow(\"img 3\",imgf3)\n",
    "cv2.waitKey(0)"
   ]
  },
  {
   "cell_type": "markdown",
   "id": "e2733c19-7ff5-4650-987c-91ff9aefb236",
   "metadata": {},
   "source": [
    "# Exercice 3 : Filtre Gaussien"
   ]
  },
  {
   "cell_type": "code",
   "execution_count": null,
   "id": "6834c79b-6bd7-4a67-be37-6dff06095a8a",
   "metadata": {},
   "outputs": [],
   "source": [
    "image = cv2.imread('bateau.png', cv2.IMREAD_COLOR)\n",
    "\n",
    "def filtreGaussien(img, Hsize, Vsize, equartType):\n",
    "    img = cv2.GaussianBlur(img,(Hsize, Vsize), equartType)\n",
    "    return img\n",
    "\n",
    "for i in range(1,10,2):\n",
    "    imageG = filtreGaussien(image, i, i, 5)\n",
    "    cv2.imshow('img', imageG)\n",
    "    cv2.waitKey(0)"
   ]
  },
  {
   "cell_type": "markdown",
   "id": "584dbf26-7e2e-4936-9ecd-186a3a5634f6",
   "metadata": {},
   "source": [
    "# Exercice 4 : Bruit sel et Poivre"
   ]
  },
  {
   "cell_type": "code",
   "execution_count": null,
   "id": "4ae50d4b-e008-4d2b-8ffd-7ffba529dd34",
   "metadata": {},
   "outputs": [],
   "source": [
    "image = cv2.imread('saltpeppernoise1.png', cv2.IMREAD_COLOR)\n",
    "\n",
    "def filterMedian(img, size):\n",
    "    imgB = cv2.medianBlur(img, size)\n",
    "    return imgB\n",
    "\n",
    "imgM = filterMedian(image,5)\n",
    "cv2.imshow(\"img Médian\",imgM)\n",
    "cv2.waitKey(0)"
   ]
  },
  {
   "cell_type": "markdown",
   "id": "ba1642ba-86e8-47d6-abd2-58514ba22568",
   "metadata": {},
   "source": [
    "# Exercice 5 : Détection de contour avec le filtre de Sobel"
   ]
  },
  {
   "cell_type": "code",
   "execution_count": null,
   "id": "c607240b-c1fd-47c2-b605-1f6d940d9752",
   "metadata": {},
   "outputs": [],
   "source": [
    "image = cv2.imread(\"ville.jpg\", cv2.IMREAD_COLOR)\n",
    "scale = 1\n",
    "ddepth = -1\n",
    "delta = 0  # Définir delta (valeur par défaut)\n",
    "src = cv2.GaussianBlur(image, (3, 3), 0)\n",
    "gray = cv2.cvtColor(src, cv2.COLOR_BGR2GRAY)\n",
    "xgrad_x = cv2.Sobel(gray, ddepth, 1, 0, ksize=3, scale=scale, delta=delta, borderType=cv2.BORDER_DEFAULT)\n",
    "grad_y = cv2.Sobel(gray, ddepth, 0, 1, ksize=3, scale=scale, delta=delta, borderType=cv2.BORDER_DEFAULT)\n",
    "abs_grad_x = cv2.convertScaleAbs(xgrad_x)\n",
    "abs_grad_y = cv2.convertScaleAbs(grad_y)\n",
    "grad = cv2.addWeighted(abs_grad_x, 0.5, abs_grad_y, 0.5, 0)\n",
    "cv2.imshow(\"Gradient Image\", grad)\n",
    "cv2.waitKey(0)\n",
    "cv2.destroyAllWindows()\n"
   ]
  },
  {
   "cell_type": "markdown",
   "id": "f5e76cae-6b95-462a-af00-bcbff02a0462",
   "metadata": {},
   "source": [
    "# Exercice 6 – Extraction de contours"
   ]
  },
  {
   "cell_type": "code",
   "execution_count": null,
   "id": "88f049e0-7bca-4111-be5a-7d38376e9da7",
   "metadata": {},
   "outputs": [],
   "source": [
    "# Fonction pour extraire les contours\n",
    "def detect_edges(image_path):\n",
    "    image = cv2.imread(image_path, cv2.IMREAD_COLOR)\n",
    "    blurred_image = cv2.GaussianBlur(image, (5, 5), 0)\n",
    "    gray_image = cv2.cvtColor(blurred_image, cv2.COLOR_BGR2GRAY)\n",
    "    grad_x = cv2.Sobel(gray_image, cv2.CV_16S, 1, 0, ksize=3)\n",
    "    grad_y = cv2.Sobel(gray_image, cv2.CV_16S, 0, 1, ksize=3)\n",
    "    abs_grad_x = cv2.convertScaleAbs(grad_x)\n",
    "    abs_grad_y = cv2.convertScaleAbs(grad_y)\n",
    "    contours = cv2.addWeighted(abs_grad_x, 0.5, abs_grad_y, 0.5, 0)\n",
    "    return contours\n",
    "    \n",
    "image_paths = [\"balle1.jpg\", \"balle2.jpg\", \"bateau.png\", \"saltpeppernoise1.png\"]\n",
    "for image_path in image_paths:\n",
    "    contours_image = detect_edges(image_path)\n",
    "    original_image = cv2.imread(image_path)\n",
    "    cv2.imshow(f\"Image originale - {image_path}\", original_image)\n",
    "    cv2.imshow(f\"Contours extraits - {image_path}\", contours_image)\n",
    "\n",
    "cv2.waitKey(0)\n",
    "cv2.destroyAllWindows()\n"
   ]
  },
  {
   "cell_type": "markdown",
   "id": "661a1a60-2195-4fc9-b230-e413e689b17f",
   "metadata": {},
   "source": [
    "# Exercice 7 – Détections de contours revisitée – la méthode de Canny"
   ]
  },
  {
   "cell_type": "code",
   "execution_count": null,
   "id": "f46ac43a-5a4e-4ae6-87b5-63083615db44",
   "metadata": {},
   "outputs": [],
   "source": [
    "# Fonction pour détecter les contours en utilisant Canny\n",
    "def detect_canny_edges(image_path, lower_threshold, upper_threshold):\n",
    "    image = cv2.imread(image_path, cv2.IMREAD_COLOR)\n",
    "    gray_image = cv2.cvtColor(image, cv2.COLOR_BGR2GRAY)\n",
    "    canny_edges = cv2.Canny(gray_image, lower_threshold, upper_threshold)\n",
    "    return canny_edges\n",
    "\n",
    "image_paths = [\"balle1.jpg\", \"balle2.jpg\", \"bateau.png\", \"saltpeppernoise1.png\"]\n",
    "lower_threshold = 100\n",
    "upper_threshold = 200\n",
    "for image_path in image_paths:\n",
    "    canny_image = detect_canny_edges(image_path, lower_threshold, upper_threshold)\n",
    "    original_image = cv2.imread(image_path)\n",
    "    cv2.imshow(f\"Image originale - {image_path}\", original_image)\n",
    "    cv2.imshow(f\"Contours avec Canny - {image_path}\", canny_image)\n",
    "\n",
    "cv2.waitKey(0)\n",
    "cv2.destroyAllWindows()\n"
   ]
  }
 ],
 "metadata": {
  "kernelspec": {
   "display_name": "Python 3 (ipykernel)",
   "language": "python",
   "name": "python3"
  },
  "language_info": {
   "codemirror_mode": {
    "name": "ipython",
    "version": 3
   },
   "file_extension": ".py",
   "mimetype": "text/x-python",
   "name": "python",
   "nbconvert_exporter": "python",
   "pygments_lexer": "ipython3",
   "version": "3.12.3"
  }
 },
 "nbformat": 4,
 "nbformat_minor": 5
}
