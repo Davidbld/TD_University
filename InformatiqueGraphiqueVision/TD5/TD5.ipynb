{
 "cells": [
  {
   "cell_type": "code",
   "execution_count": 8,
   "id": "48cdac74-5b6c-4199-a692-52961639cd2a",
   "metadata": {},
   "outputs": [],
   "source": [
    "import cv2\n",
    "import numpy as np\n",
    "from matplotlib import pyplot as plt"
   ]
  },
  {
   "cell_type": "markdown",
   "id": "b1823ee7-0923-4f0b-97ae-dcabe99bac8b",
   "metadata": {},
   "source": [
    "# Exercice 1\n",
    "## 1.1"
   ]
  },
  {
   "cell_type": "code",
   "execution_count": 9,
   "id": "92d3fce0-0e6c-4417-abef-1772ed7656c9",
   "metadata": {},
   "outputs": [
    {
     "data": {
      "text/plain": [
       "-1"
      ]
     },
     "execution_count": 9,
     "metadata": {},
     "output_type": "execute_result"
    }
   ],
   "source": [
    "img = cv2.imread('chess_board.png', cv2.IMREAD_COLOR)\n",
    "imgGrey = cv2.cvtColor(img, cv2.COLOR_RGB2GRAY)\n",
    "\n",
    "resultatHarris = cv2.cornerHarris(imgGrey, 2, 23, 0.04)\n",
    "img[resultatHarris > 0.01 *resultatHarris.max()]=[0,0,255]\n",
    "\n",
    "cv2.imshow(\"bord\", resultatHarris)\n",
    "cv2.imshow(\"Color\", img)\n",
    "cv2.waitKey(0)"
   ]
  },
  {
   "cell_type": "markdown",
   "id": "44e029b3-86f1-49df-9b86-c75c454fd38a",
   "metadata": {},
   "source": [
    "## 1.2."
   ]
  },
  {
   "cell_type": "code",
   "execution_count": 10,
   "id": "facea04d-8fac-4ae1-be54-97f350c806e0",
   "metadata": {},
   "outputs": [
    {
     "data": {
      "text/plain": [
       "-1"
      ]
     },
     "execution_count": 10,
     "metadata": {},
     "output_type": "execute_result"
    }
   ],
   "source": [
    "img = cv2.imread('track.jpg', cv2.IMREAD_COLOR)\n",
    "imgGrey = cv2.cvtColor(img, cv2.COLOR_RGB2GRAY)\n",
    "\n",
    "resultatHarris = cv2.cornerHarris(imgGrey, 2, 23, 0.04)\n",
    "img[resultatHarris > 0.01 *resultatHarris.max()]=[0,0,255]\n",
    "\n",
    "cv2.imshow(\"bord\", resultatHarris)\n",
    "cv2.imshow(\"Color\", img)\n",
    "cv2.waitKey(0)"
   ]
  },
  {
   "cell_type": "code",
   "execution_count": 11,
   "id": "19ce9f6d-3f90-48a9-9a80-d7fc75127050",
   "metadata": {},
   "outputs": [
    {
     "data": {
      "text/plain": [
       "-1"
      ]
     },
     "execution_count": 11,
     "metadata": {},
     "output_type": "execute_result"
    }
   ],
   "source": [
    "img = cv2.imread('track_small.jpg', cv2.IMREAD_COLOR)\n",
    "imgGrey = cv2.cvtColor(img, cv2.COLOR_RGB2GRAY)\n",
    "\n",
    "resultatHarris = cv2.cornerHarris(imgGrey, 2, 23, 0.04)\n",
    "img[resultatHarris > 0.01 *resultatHarris.max()]=[0,0,255]\n",
    "\n",
    "cv2.imshow(\"bord\", resultatHarris)\n",
    "cv2.imshow(\"Color\", img)\n",
    "cv2.waitKey(0)"
   ]
  },
  {
   "cell_type": "markdown",
   "id": "9869173c-58fb-4151-a969-dce83ed0bff6",
   "metadata": {},
   "source": [
    "# Exercice 2"
   ]
  },
  {
   "cell_type": "code",
   "execution_count": 12,
   "id": "18514c03-df27-4472-851f-023b1d272285",
   "metadata": {},
   "outputs": [
    {
     "data": {
      "text/plain": [
       "-1"
      ]
     },
     "execution_count": 12,
     "metadata": {},
     "output_type": "execute_result"
    }
   ],
   "source": [
    "def SIFT(img):\n",
    "    sift = cv2.SIFT_create()\n",
    "    imgGrey = cv2.cvtColor(img, cv2.COLOR_RGB2GRAY)\n",
    "    points, descripteursImg = sift.detectAndCompute(imgGrey, None)\n",
    "    couleurs = (0,0,255)\n",
    "    cv2.drawKeypoints(img, points, img, couleurs, cv2.DRAW_MATCHES_FLAGS_DRAW_RICH_KEYPOINTS)\n",
    "    return img\n",
    "\n",
    "img = cv2.imread('varese.jpg', cv2.IMREAD_COLOR)\n",
    "img = SIFT(img)\n",
    "cv2.imshow(\"Sift\", img)\n",
    "cv2.waitKey(0)"
   ]
  },
  {
   "cell_type": "markdown",
   "id": "e3f3f154-9bbb-4184-a549-ea0cb5a9b10c",
   "metadata": {},
   "source": [
    "# Exercice 3"
   ]
  },
  {
   "cell_type": "code",
   "execution_count": 13,
   "id": "8f695260-d511-4ef0-a074-a772fa832546",
   "metadata": {},
   "outputs": [
    {
     "data": {
      "text/plain": [
       "-1"
      ]
     },
     "execution_count": 13,
     "metadata": {},
     "output_type": "execute_result"
    }
   ],
   "source": [
    "def ORB(img):\n",
    "    orb = cv2.ORB_create()\n",
    "    imgGrey = cv2.cvtColor(img, cv2.COLOR_RGB2GRAY)\n",
    "    points, descripteursImg = orb.detectAndCompute(imgGrey, None)\n",
    "    couleurs = (0,0,255)\n",
    "    cv2.drawKeypoints(img, points, img, couleurs, cv2.DRAW_MATCHES_FLAGS_DRAW_RICH_KEYPOINTS)\n",
    "    return img\n",
    "\n",
    "img = cv2.imread('varese.jpg', cv2.IMREAD_COLOR)\n",
    "img = ORB(img)\n",
    "cv2.imshow(\"Sift\", img)\n",
    "cv2.waitKey(0)"
   ]
  },
  {
   "cell_type": "markdown",
   "id": "78152fd8-db2d-4b24-b502-d79ca0368744",
   "metadata": {},
   "source": [
    "# Exercice 4"
   ]
  },
  {
   "cell_type": "code",
   "execution_count": 15,
   "id": "36a38b2e-0123-49c6-a9fc-9ba911102f39",
   "metadata": {},
   "outputs": [],
   "source": [
    "def compare(path1,path2):\n",
    "    path1 = cv2.cvtColor(path1, cv2.COLOR_RGB2GRAY)\n",
    "    path2 = cv2.cvtColor(path2, cv2.COLOR_RGB2GRAY)\n",
    "    \n",
    "    orb = cv2.ORB_create()\n",
    "\n",
    "    pointsPath1, descripteursImgPath1 = orb.detectAndCompute(path1, None)\n",
    "    pointsPath2, descripteursImgPath2 = orb.detectAndCompute(path2, None)\n",
    "\n",
    "    algoBF = cv2.BFMatcher(cv2.NORM_HAMMING, crossCheck=False)\n",
    "    paires_corresp = algoBF.knnMatch(descripteursImgPath1, descripteursImgPath2, k=5)\n",
    "\n",
    "    Matches_tri = sorted(paires_corresp, key=lambda x:x[0].distance)\n",
    "    matched = cv2.drawMatchesKnn(path1, pointsPath1, path2, pointsPath2, Matches_tri[:25], None)\n",
    "    cv2.imshow(\"Comparaison\", matched)\n",
    "    cv2.waitKey(0)\n",
    "\n",
    "path1 = cv2.imread('nasa_logo.png', cv2.IMREAD_COLOR)\n",
    "path2 = cv2.imread('kennedy_space_center.jpg', cv2.IMREAD_COLOR)\n",
    "compare(path1,path2)"
   ]
  }
 ],
 "metadata": {
  "kernelspec": {
   "display_name": "Python 3 (ipykernel)",
   "language": "python",
   "name": "python3"
  },
  "language_info": {
   "codemirror_mode": {
    "name": "ipython",
    "version": 3
   },
   "file_extension": ".py",
   "mimetype": "text/x-python",
   "name": "python",
   "nbconvert_exporter": "python",
   "pygments_lexer": "ipython3",
   "version": "3.12.3"
  }
 },
 "nbformat": 4,
 "nbformat_minor": 5
}
